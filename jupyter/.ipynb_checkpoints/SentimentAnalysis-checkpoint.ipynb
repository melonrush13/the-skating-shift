{
 "cells": [
  {
   "cell_type": "code",
   "execution_count": 1,
   "metadata": {},
   "outputs": [],
   "source": [
    "import argparse\n",
    "import pandas as pd\n",
    "import numpy as np\n",
    "import matplotlib.pyplot as plt\n",
    "import csv\n",
    "import dateutil\n",
    "from textblob import TextBlob\n",
    "from textblob.sentiments import NaiveBayesAnalyzer"
   ]
  },
  {
   "cell_type": "code",
   "execution_count": 12,
   "metadata": {},
   "outputs": [
    {
     "name": "stdout",
     "output_type": "stream",
     "text": [
      "<class 'pandas.core.frame.DataFrame'>\n",
      "RangeIndex: 25778 entries, 0 to 25777\n",
      "Data columns (total 4 columns):\n",
      " #   Column    Non-Null Count  Dtype \n",
      "---  ------    --------------  ----- \n",
      " 0   datetime  25778 non-null  object\n",
      " 1   tweet_id  25778 non-null  int64 \n",
      " 2   text      25778 non-null  object\n",
      " 3   username  25778 non-null  object\n",
      "dtypes: int64(1), object(3)\n",
      "memory usage: 805.7+ KB\n"
     ]
    }
   ],
   "source": [
    "tweets2020 = \"..//scraped_tweets/2020_rollerskates_snscrape_tweets.csv\"\n",
    "\n",
    "rollerskates20 = pd.read_csv(tweets2020)\n",
    "rollerskates20.info()"
   ]
  },
  {
   "cell_type": "code",
   "execution_count": 14,
   "metadata": {},
   "outputs": [
    {
     "name": "stdout",
     "output_type": "stream",
     "text": [
      "<class 'pandas.core.frame.DataFrame'>\n",
      "RangeIndex: 29421 entries, 0 to 29420\n",
      "Data columns (total 4 columns):\n",
      " #   Column    Non-Null Count  Dtype \n",
      "---  ------    --------------  ----- \n",
      " 0   datetime  29421 non-null  object\n",
      " 1   tweet_id  29421 non-null  int64 \n",
      " 2   text      29421 non-null  object\n",
      " 3   username  29421 non-null  object\n",
      "dtypes: int64(1), object(3)\n",
      "memory usage: 919.5+ KB\n"
     ]
    }
   ],
   "source": [
    "tweets = \"..//scraped_tweets/2020_rollerbladessnscrape_tweets.csv\"\n",
    "\n",
    "rollerblades20 = pd.read_csv(tweets)\n",
    "rollerblades20.info()"
   ]
  },
  {
   "cell_type": "code",
   "execution_count": 10,
   "metadata": {},
   "outputs": [
    {
     "name": "stdout",
     "output_type": "stream",
     "text": [
      "<class 'pandas.core.frame.DataFrame'>\n",
      "RangeIndex: 28985 entries, 0 to 28984\n",
      "Data columns (total 4 columns):\n",
      " #   Column    Non-Null Count  Dtype \n",
      "---  ------    --------------  ----- \n",
      " 0   datetime  28985 non-null  object\n",
      " 1   tweet_id  28985 non-null  int64 \n",
      " 2   text      28985 non-null  object\n",
      " 3   username  28985 non-null  object\n",
      "dtypes: int64(1), object(3)\n",
      "memory usage: 905.9+ KB\n"
     ]
    }
   ],
   "source": [
    "tweetssn = \"..//scraped_tweets/2020_snscrape_tweets.csv\"\n",
    "rollerskating20 = pd.read_csv(tweetssn)\n",
    "rollerskating20.info()\n"
   ]
  },
  {
   "cell_type": "code",
   "execution_count": 25,
   "metadata": {},
   "outputs": [
    {
     "name": "stdout",
     "output_type": "stream",
     "text": [
      "0.0780183171449588\n",
      "0.3030708776537287\n",
      "0.20904964695753214\n",
      "0.4062146800228196\n"
     ]
    }
   ],
   "source": [
    "# Sentiment Analysis Rollerskates\n",
    "\n",
    "# create a dataframe from tweet col\n",
    "df = pd.DataFrame(rollerskates20['text'])\n",
    "covidDF = pd.DataFrame()\n",
    "\n",
    "# polarity is how positive or negative sentiment is\n",
    "# subjectivity is personal feelings, views or believes\n",
    "polarity_scores = []\n",
    "subjectivity_scores = []\n",
    "covid_polarity_scores = []\n",
    "covid_subjectivity_scores = []\n",
    "\n",
    "for tweet in df['text']:\n",
    "    if tweet.find(\"covid\") >= 0:\n",
    "        blob = TextBlob(tweet)\n",
    "        covid_polarity_scores.append(blob.polarity)\n",
    "        covid_subjectivity_scores.append(blob.subjectivity)\n",
    "\n",
    "    # Find Polarity and Subjectivity score for each tweet\n",
    "    blob = TextBlob(tweet)\n",
    "    polarity_scores.append(blob.polarity)\n",
    "    subjectivity_scores.append(blob.subjectivity)\n",
    "\n",
    "\n",
    "# calculate average scores of polarity and sentiment\n",
    "length = len(polarity_scores)\n",
    "sumPol = sum(polarity_scores)\n",
    "sumSub = sum(subjectivity_scores)\n",
    "averagePolSkates = sumPol / length\n",
    "averageSubSkates = sumSub / length\n",
    "\n",
    "print(averagePolSkates)\n",
    "print(averageSubSkates)\n",
    "\n",
    "covidlengthp = len(covid_polarity_scores)\n",
    "covidlengths = len(covid_subjectivity_scores)\n",
    "sumPolCovid = sum(covid_polarity_scores)\n",
    "sumSubCovid = sum(covid_subjectivity_scores)\n",
    "averageCovidPolSkates = sumPolCovid / covidlengthp\n",
    "averageCovidSubSkates = sumSubCovid / covidlengths\n",
    "print(averageCovidPolSkates)\n",
    "print(averageCovidSubSkates)"
   ]
  },
  {
   "cell_type": "code",
   "execution_count": 26,
   "metadata": {},
   "outputs": [
    {
     "name": "stdout",
     "output_type": "stream",
     "text": [
      "0.0867010555353\n",
      "0.32257288547595064\n",
      "0.0453743126038294\n",
      "0.2589418418882705\n"
     ]
    }
   ],
   "source": [
    "# Sentiment Analysis Rollerblades\n",
    "\n",
    "# create a dataframe from tweet col\n",
    "df = pd.DataFrame(rollerblades20['text'])\n",
    "covidDF = pd.DataFrame()\n",
    "\n",
    "# polarity is how positive or negative sentiment is\n",
    "# subjectivity is personal feelings, views or believes\n",
    "polarity_scores = []\n",
    "subjectivity_scores = []\n",
    "covid_polarity_scores = []\n",
    "covid_subjectivity_scores = []\n",
    "\n",
    "for tweet in df['text']:\n",
    "    if tweet.find(\"covid\") >= 0:\n",
    "        blob = TextBlob(tweet)\n",
    "        covid_polarity_scores.append(blob.polarity)\n",
    "        covid_subjectivity_scores.append(blob.subjectivity)\n",
    "        \n",
    "    # Find Polarity and Subjectivity score for each tweet\n",
    "    blob = TextBlob(tweet)\n",
    "    polarity_scores.append(blob.polarity)\n",
    "    subjectivity_scores.append(blob.subjectivity)\n",
    "\n",
    "\n",
    "# calculate average scores of polarity and sentiment\n",
    "length = len(polarity_scores)\n",
    "sumPol = sum(polarity_scores)\n",
    "sumSub = sum(subjectivity_scores)\n",
    "\n",
    "averagePolBlades = sumPol / length\n",
    "averageSubBlades = sumSub / length\n",
    "\n",
    "print(averagePolBlades)\n",
    "print(averageSubBlades)\n",
    "\n",
    "covidlengthp = len(covid_polarity_scores)\n",
    "covidlengths = len(covid_subjectivity_scores)\n",
    "sumPolCovid = sum(covid_polarity_scores)\n",
    "sumSubCovid = sum(covid_subjectivity_scores)\n",
    "averageCovidPolBlades = sumPolCovid / covidlengthp\n",
    "averageCovidSubBlades = sumSubCovid / covidlengths\n",
    "print(averageCovidPolBlades)\n",
    "print(averageCovidSubBlades)"
   ]
  },
  {
   "cell_type": "code",
   "execution_count": 27,
   "metadata": {},
   "outputs": [
    {
     "name": "stdout",
     "output_type": "stream",
     "text": [
      "0.11366616085171685\n",
      "0.3367337994037206\n",
      "0.14449609746198927\n",
      "0.3773935177288836\n"
     ]
    }
   ],
   "source": [
    "# Sentiment Analysis Rollerskating\n",
    "\n",
    "# create a dataframe from tweet col\n",
    "df = pd.DataFrame(rollerskating20['text'])\n",
    "covidDF = pd.DataFrame()\n",
    "\n",
    "# polarity is how positive or negative sentiment is\n",
    "# subjectivity is personal feelings, views or believes\n",
    "polarity_scores = []\n",
    "subjectivity_scores = []\n",
    "covid_polarity_scores = []\n",
    "covid_subjectivity_scores = []\n",
    "\n",
    "for tweet in df['text']:\n",
    "    if tweet.find(\"covid\") >= 0:\n",
    "        blob = TextBlob(tweet)\n",
    "        covid_polarity_scores.append(blob.polarity)\n",
    "        covid_subjectivity_scores.append(blob.subjectivity)\n",
    "        \n",
    "    # Find Polarity and Subjectivity score for each tweet\n",
    "    blob = TextBlob(tweet)\n",
    "    polarity_scores.append(blob.polarity)\n",
    "    subjectivity_scores.append(blob.subjectivity)\n",
    "\n",
    "\n",
    "# calculate average scores of polarity and sentiment\n",
    "length = len(polarity_scores)\n",
    "sumPol = sum(polarity_scores)\n",
    "sumSub = sum(subjectivity_scores)\n",
    "\n",
    "averagePolSkating = sumPol / length\n",
    "averageSubSkating = sumSub / length\n",
    "\n",
    "print(averagePolSkating)\n",
    "print(averageSubSkating)\n",
    "\n",
    "\n",
    "covidlengthp = len(covid_polarity_scores)\n",
    "covidlengths = len(covid_subjectivity_scores)\n",
    "sumPolCovid = sum(covid_polarity_scores)\n",
    "sumSubCovid = sum(covid_subjectivity_scores)\n",
    "averageCovidPolSkating = sumPolCovid / covidlengthp\n",
    "averageCovidSubSkating = sumSubCovid / covidlengths\n",
    "print(averageCovidPolSkating)\n",
    "print(averageCovidSubSkating)"
   ]
  },
  {
   "cell_type": "code",
   "execution_count": 28,
   "metadata": {},
   "outputs": [
    {
     "data": {
      "image/png": "[encoded data removed]",
      "text/plain": [
       "<Figure size 432x288 with 1 Axes>"
      ]
     },
     "metadata": {
      "needs_background": "light"
     },
     "output_type": "display_data"
    },
    {
     "data": {
      "image/png": "[encoded data removed]",
      "text/plain": [
       "<Figure size 432x288 with 1 Axes>"
      ]
     },
     "metadata": {
      "needs_background": "light"
     },
     "output_type": "display_data"
    }
   ],
   "source": [
    "# Polarity Vis\n",
    "\n",
    "plt.bar(0, averagePolSkates)\n",
    "plt.bar(1, averagePolBlades)\n",
    "plt.bar(2, averagePolSkating)\n",
    "\n",
    "plt.xticks((0,1,2), ('Rollerskates', 'RollerBlading', 'Rollerskating'))\n",
    "plt.xlabel('Keyword')\n",
    "plt.ylabel('Score')\n",
    "plt.title('Polarity Sentiment Average Score')\n",
    "plt.show()\n",
    "\n",
    "# Subjectivity Vis\n",
    "\n",
    "plt.bar(0, averageSubSkates)\n",
    "plt.bar(1, averageSubBlades)\n",
    "plt.bar(2, averageSubSkating)\n",
    "\n",
    "plt.xticks((0,1,2), ('Rollerskates', 'RollerBlading', 'Rollerskating'))\n",
    "plt.xlabel('Keyword')\n",
    "plt.ylabel('Score')\n",
    "plt.title('Subjectivity Sentiment Average Score')\n",
    "plt.show()"
   ]
  },
  {
   "cell_type": "code",
   "execution_count": 30,
   "metadata": {},
   "outputs": [
    {
     "data": {
      "image/png": "[encoded data removed]",
      "text/plain": [
       "<Figure size 432x288 with 1 Axes>"
      ]
     },
     "metadata": {
      "needs_background": "light"
     },
     "output_type": "display_data"
    },
    {
     "data": {
      "image/png": "[encoded data removed]",
      "text/plain": [
       "<Figure size 432x288 with 1 Axes>"
      ]
     },
     "metadata": {
      "needs_background": "light"
     },
     "output_type": "display_data"
    }
   ],
   "source": [
    "# Polarity Vis COVID\n",
    "\n",
    "plt.bar(0, averageCovidPolSkates)\n",
    "plt.bar(1, averageCovidPolBlades)\n",
    "plt.bar(2, averageCovidPolSkating)\n",
    "\n",
    "plt.xticks((0,1,2), ('Rollerskates', 'RollerBlading', 'Rollerskating'))\n",
    "plt.xlabel('Keyword')\n",
    "plt.ylabel('Score')\n",
    "plt.title('Polarity Sentiment (with COVID) Average Score')\n",
    "plt.show()\n",
    "\n",
    "# Polarity Vis COVID\n",
    "\n",
    "plt.bar(0, averageCovidSubSkates)\n",
    "plt.bar(1, averageCovidSubBlades)\n",
    "plt.bar(2, averageCovidSubSkating)\n",
    "\n",
    "plt.xticks((0,1,2), ('Rollerskates', 'RollerBlading', 'Rollerskating'))\n",
    "plt.xlabel('Keyword')\n",
    "plt.ylabel('Score')\n",
    "plt.title('Subjectivity Sentiment (with COVID) Average Score')\n",
    "plt.show()"
   ]
  },
  {
   "cell_type": "code",
   "execution_count": 38,
   "metadata": {},
   "outputs": [
    {
     "data": {
      "image/png": "[encoded data removed]",
      "text/plain": [
       "<Figure size 432x288 with 1 Axes>"
      ]
     },
     "metadata": {
      "needs_background": "light"
     },
     "output_type": "display_data"
    },
    {
     "data": {
      "image/png": "[encoded data removed]",
      "text/plain": [
       "<Figure size 432x288 with 1 Axes>"
      ]
     },
     "metadata": {
      "needs_background": "light"
     },
     "output_type": "display_data"
    }
   ],
   "source": [
    "# Polarity Vis All\n",
    "\n",
    "plt.bar(0, averageCovidPolSkates)\n",
    "plt.bar(1, averagePolSkates)\n",
    "plt.bar(2, averageCovidPolBlades)\n",
    "plt.bar(3, averagePolBlades)\n",
    "plt.bar(4, averageCovidPolSkating)\n",
    "plt.bar(5, averagePolSkating)\n",
    "\n",
    "plt.xticks((0,1,2,3,4,5), ('COVID Skates', 'Skates', 'COVID Blades', 'Blades', 'COVID Skating', 'Skating'))\n",
    "plt.xlabel('Keyword')\n",
    "plt.ylabel('Score')\n",
    "plt.title('Polarity')\n",
    "plt.show()\n",
    "\n",
    "# Subjectivity Vis All\n",
    "\n",
    "plt.bar(0, averageCovidSubSkates)\n",
    "plt.bar(1, averageSubSkates)\n",
    "plt.bar(2, averageCovidSubBlades)\n",
    "plt.bar(3, averageSubBlades)\n",
    "plt.bar(4, averageCovidSubSkating)\n",
    "plt.bar(5, averageSubSkating)\n",
    "\n",
    "plt.xticks((0,1,2,3,4,5), ('COVID Skates', 'Skates', 'COVID Blades', 'Blades', 'COVID Skating', 'Skating'))\n",
    "plt.xlabel('Keyword')\n",
    "plt.ylabel('Score')\n",
    "plt.title('Subjectivity')\n",
    "plt.show()\n",
    "\n"
   ]
  }
 ],
 "metadata": {
  "kernelspec": {
   "display_name": "Python 3",
   "language": "python",
   "name": "python3"
  },
  "language_info": {
   "codemirror_mode": {
    "name": "ipython",
    "version": 3
   },
   "file_extension": ".py",
   "mimetype": "text/x-python",
   "name": "python",
   "nbconvert_exporter": "python",
   "pygments_lexer": "ipython3",
   "version": "3.8.0"
  }
 },
 "nbformat": 4,
 "nbformat_minor": 4
}
