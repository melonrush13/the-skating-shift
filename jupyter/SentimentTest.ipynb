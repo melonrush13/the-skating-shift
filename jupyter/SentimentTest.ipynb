{
 "cells": [
  {
   "cell_type": "code",
   "execution_count": 16,
   "metadata": {},
   "outputs": [],
   "source": [
    "from textblob import TextBlob\n",
    "\n",
    "# Scores can range from -1 to +1\n",
    "\n",
    "sentenceOG = \"i’ve started rollerskating!!! and honestly it’s so much fun i love it🥺🥺🥺🥺\"\n",
    "sentenceNoEmoji = \"i’ve started rollerskating!!! and honestly it’s so much fun i love it\"\n",
    "sentenceTest = \"i am so mad\"\n",
    "\n",
    "\n",
    "aP = TextBlob(sentenceTest).polarity\n",
    "aS = TextBlob(sentenceTest).subjectivity\n"
   ]
  },
  {
   "cell_type": "code",
   "execution_count": 17,
   "metadata": {},
   "outputs": [
    {
     "name": "stdout",
     "output_type": "stream",
     "text": [
      "-0.625\n",
      "1.0\n"
     ]
    }
   ],
   "source": [
    "print(aP)\n",
    "print(aS)"
   ]
  }
 ],
 "metadata": {
  "kernelspec": {
   "display_name": "Python 3",
   "language": "python",
   "name": "python3"
  },
  "language_info": {
   "codemirror_mode": {
    "name": "ipython",
    "version": 3
   },
   "file_extension": ".py",
   "mimetype": "text/x-python",
   "name": "python",
   "nbconvert_exporter": "python",
   "pygments_lexer": "ipython3",
   "version": "3.8.0"
  }
 },
 "nbformat": 4,
 "nbformat_minor": 4
}
